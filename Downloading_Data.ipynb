{
  "nbformat": 4,
  "nbformat_minor": 0,
  "metadata": {
    "colab": {
      "provenance": [],
      "authorship_tag": "ABX9TyNzmX0925v1bOsP6hPuqywE",
      "include_colab_link": true
    },
    "kernelspec": {
      "name": "python3",
      "display_name": "Python 3"
    },
    "language_info": {
      "name": "python"
    }
  },
  "cells": [
    {
      "cell_type": "markdown",
      "metadata": {
        "id": "view-in-github",
        "colab_type": "text"
      },
      "source": [
        "<a href=\"https://colab.research.google.com/github/sepidehnaghshineh/LD/blob/main/Downloading_Data.ipynb\" target=\"_parent\"><img src=\"https://colab.research.google.com/assets/colab-badge.svg\" alt=\"Open In Colab\"/></a>"
      ]
    },
    {
      "cell_type": "markdown",
      "source": [
        "Downloading the data for Lesion Detection task"
      ],
      "metadata": {
        "id": "XhI8n-zg_O_l"
      }
    },
    {
      "cell_type": "code",
      "execution_count": null,
      "metadata": {
        "colab": {
          "base_uri": "https://localhost:8080/"
        },
        "id": "675BB3jeTe0D",
        "outputId": "cc67f330-29d5-4c8b-9344-f7cdf9add055"
      },
      "outputs": [
        {
          "name": "stdout",
          "output_type": "stream",
          "text": [
            "Mounted at /content/drive\n"
          ]
        }
      ],
      "source": [
        "from google.colab import drive\n",
        "drive.mount('/content/drive')\n"
      ]
    },
    {
      "cell_type": "code",
      "execution_count": null,
      "metadata": {
        "colab": {
          "base_uri": "https://localhost:8080/"
        },
        "id": "JUC6O58hkSGw",
        "outputId": "ddb30257-31d9-43e6-f564-808636b88474"
      },
      "outputs": [
        {
          "name": "stdout",
          "output_type": "stream",
          "text": [
            "/content/drive/MyDrive/PhD_Project\n"
          ]
        }
      ],
      "source": [
        "cd ./drive/MyDrive/PhD_Project/"
      ]
    },
    {
      "cell_type": "code",
      "execution_count": null,
      "metadata": {
        "id": "liU6bAd7VQh0"
      },
      "outputs": [],
      "source": [
        "!apt-get install wget\n",
        "!pip install tqdm"
      ]
    },
    {
      "cell_type": "code",
      "execution_count": null,
      "metadata": {
        "id": "wj7oyWLoPELK"
      },
      "outputs": [],
      "source": [
        "import subprocess\n",
        "\n",
        "username = \"sepidehkani\"\n",
        "password = \"ketsum-dydcir-5Mepqu\"\n",
        "url = \"https://physionet.org/files/vindr-mammo/1.0.0/\"  # Test the base URL\n",
        "\n",
        "command = f\"wget --user={username} --password={password} {url}\"\n",
        "\n",
        "try:\n",
        "    result = subprocess.run(command, shell=True, check=True, capture_output=True, text=True)\n",
        "    print(\"wget successful\")\n",
        "    print(result.stdout)\n",
        "    print(result.stderr)\n",
        "\n",
        "except subprocess.CalledProcessError as e:\n",
        "    print(\"wget failed\")\n",
        "    print(e.stderr)"
      ]
    },
    {
      "cell_type": "code",
      "execution_count": null,
      "metadata": {
        "id": "fjx6Ns9fPMC8"
      },
      "outputs": [],
      "source": [
        "import subprocess\n",
        "\n",
        "username = \"sepidehkani\"\n",
        "password = \"ketsum-dydcir-5Mepqu\"\n",
        "url = \"https://physionet.org/files/vindr-mammo/1.0.0/images/\"\n",
        "\n",
        "command = f\"wget -q -O- --user={username} --password={password} {url}\"\n",
        "\n",
        "try:\n",
        "    html_content = subprocess.check_output(command, shell=True, text=True)\n",
        "    print(html_content)  # Print the HTML content\n",
        "except subprocess.CalledProcessError as e:\n",
        "    print(e)"
      ]
    },
    {
      "cell_type": "code",
      "execution_count": null,
      "metadata": {
        "id": "NilywCJ4LUQZ"
      },
      "outputs": [],
      "source": [
        "import os\n",
        "import subprocess\n",
        "import math\n",
        "import json\n",
        "import re\n",
        "import time\n",
        "\n",
        "def create_download_chunks(base_url, username, password, output_dir=\"images\", chunk_size_gb=5, chunk_manifest_file=\"download_chunks.json\", max_retries=3, retry_delay=5):\n",
        "    \"\"\"Creates a manifest file with download chunks for VinDr-Mammo dataset with retry.\"\"\"\n",
        "    base_url_images = f\"{base_url}{output_dir}/\"\n",
        "\n",
        "    for retry in range(max_retries):\n",
        "        try:\n",
        "            command = f\"wget -q -O- --user={username} --password={password} {base_url_images}\"\n",
        "            output = subprocess.check_output(command, shell=True, text=True)\n",
        "\n",
        "            # Corrected regex to extract study IDs\n",
        "            study_ids = re.findall(r'<a href=\"([0-9a-f]{32})/\">', output)\n",
        "\n",
        "            if not study_ids:\n",
        "                if retry < max_retries - 1:\n",
        "                    print(f\"Retry {retry + 1}/{max_retries}: No study IDs found. Retrying in {retry_delay} seconds...\")\n",
        "                    time.sleep(retry_delay)\n",
        "                    continue\n",
        "                else:\n",
        "                    print(\"Error: No study IDs found after multiple retries. Check credentials and URL.\")\n",
        "                    return\n",
        "\n",
        "            num_studies = len(study_ids)\n",
        "            studies_per_chunk = math.ceil((chunk_size_gb * 1024 * 1024 * 1024) / (4 * 100 * 1024))\n",
        "            num_chunks = math.ceil(num_studies / studies_per_chunk)\n",
        "\n",
        "            chunks = []\n",
        "            for chunk_num in range(num_chunks):\n",
        "                start_index = chunk_num * studies_per_chunk\n",
        "                end_index = min((chunk_num + 1) * studies_per_chunk, num_studies)\n",
        "                chunk_studies = study_ids[start_index:end_index]\n",
        "                chunks.append(chunk_studies)\n",
        "\n",
        "            with open(chunk_manifest_file, \"w\") as f:\n",
        "                json.dump(chunks, f, indent=4)\n",
        "\n",
        "            print(f\"Chunk manifest created: {chunk_manifest_file}\")\n",
        "            print(f\"Total chunks: {num_chunks}\")\n",
        "            return #Exit the function if successful.\n",
        "\n",
        "        except subprocess.CalledProcessError as e:\n",
        "            if retry < max_retries - 1:\n",
        "                print(f\"Retry {retry + 1}/{max_retries}: Error retrieving study IDs: {e}. Retrying in {retry_delay} seconds...\")\n",
        "                time.sleep(retry_delay)\n",
        "                continue\n",
        "            else:\n",
        "                print(f\"Error retrieving study IDs after multiple retries: {e}\")\n",
        "                return\n",
        "        except Exception as e:\n",
        "            if retry < max_retries - 1:\n",
        "                print(f\"Retry {retry + 1}/{max_retries}: An unexpected error occurred: {e}. Retrying in {retry_delay} seconds...\")\n",
        "                time.sleep(retry_delay)\n",
        "                continue\n",
        "            else:\n",
        "                print(f\"An unexpected error occurred after multiple retries: {e}\")\n",
        "                return\n",
        "\n",
        "def download_chunk(base_url, username, password, chunk_manifest_file, chunk_index):\n",
        "    # ... (rest of the download_chunk function remains the same)\n",
        "    with open(chunk_manifest_file, \"r\") as f:\n",
        "        chunks = json.load(f)\n",
        "\n",
        "    if chunk_index < 0 or chunk_index >= len(chunks):\n",
        "        print(\"Invalid chunk index.\")\n",
        "        return\n",
        "\n",
        "    chunk_studies = chunks[chunk_index]\n",
        "    base_url_images = f\"{base_url}images/\"\n",
        "\n",
        "    print(f\"Downloading chunk {chunk_index + 1} of {len(chunks)}...\")\n",
        "\n",
        "    for study_id in chunk_studies:\n",
        "        study_url = f\"{base_url_images}{study_id}/\"\n",
        "        print(f\"  Downloading study {study_id}...\")\n",
        "        command = f\"wget -r -N -c -np --user={username} --password={password} {study_url}\"\n",
        "\n",
        "        try:\n",
        "            subprocess.run(command, shell=True, check=True)\n",
        "            print(f\"  Study {study_id} downloaded successfully.\")\n",
        "        except subprocess.CalledProcessError as e:\n",
        "            print(f\"  Error downloading study {study_id}: {e}\")\n",
        "        except Exception as e:\n",
        "            print(f\"Unexpected error: {e}\")\n",
        "\n",
        "    print(f\"Chunk {chunk_index + 1} downloaded.\")\n",
        "\n",
        "\n",
        "\n"
      ]
    },
    {
      "cell_type": "code",
      "execution_count": null,
      "metadata": {
        "colab": {
          "background_save": true
        },
        "id": "j3GYao6yLYpH"
      },
      "outputs": [],
      "source": [
        "# Example usage:\n",
        "base_url = \"https://physionet.org/files/vindr-mammo/1.0.0/\"\n",
        "username = \"sepidehkani\"\n",
        "password = \"ketsum-dydcir-5Mepqu\"\n",
        "chunk_manifest_file = \"download_chunks.json\"\n",
        "\n",
        "# Create the chunk manifest (run this once)\n",
        "create_download_chunks(base_url, username, password, chunk_manifest_file=chunk_manifest_file)\n",
        "\n",
        "# Download each chunk in separate code blocks:\n",
        "# Example: Download chunk 0\n",
        "download_chunk(base_url, username, password, chunk_manifest_file, 0)\n",
        "\n"
      ]
    }
  ]
}